{
 "cells": [
  {
   "cell_type": "code",
   "execution_count": 1,
   "id": "9a48e89e-5d45-44bc-9675-0297a037261b",
   "metadata": {},
   "outputs": [],
   "source": [
    "import os\n",
    "import cv2\n",
    "import numpy as np\n",
    "import pandas as pd\n",
    "import matplotlib.pyplot as plt\n",
    "import tensorflow as tf\n",
    "from tensorflow.keras import models, layers\n",
    "from sklearn.model_selection import train_test_split"
   ]
  },
  {
   "cell_type": "code",
   "execution_count": 2,
   "id": "5254924b-3c7b-4801-b2c4-2ab44bd30321",
   "metadata": {},
   "outputs": [],
   "source": [
    "IMAGE_SIZE=250\n",
    "BATCH_SIZE=8\n",
    "CHANNELS=32\n",
    "EPOCHS=5\n"
   ]
  },
  {
   "cell_type": "code",
   "execution_count": 3,
   "id": "3e418447-2da2-41d3-b608-13068d2d3776",
   "metadata": {},
   "outputs": [],
   "source": [
    "train_data_dir = \"CNN/Train\"\n",
    "test_data_dir = \"CNN/Test\"\n"
   ]
  },
  {
   "cell_type": "code",
   "execution_count": 4,
   "id": "2e960e30-5883-487c-b4d9-080e9e999fac",
   "metadata": {},
   "outputs": [],
   "source": [
    "X_train = []\n",
    "y_train = []\n",
    "X_test = []\n",
    "y_test = []\n"
   ]
  },
  {
   "cell_type": "code",
   "execution_count": 5,
   "id": "799bdb55-b717-4b6a-93ba-b84a2195f897",
   "metadata": {},
   "outputs": [],
   "source": [
    "def load_images_and_labels(data_dir, label):\n",
    "    for image_file in os.listdir(data_dir):\n",
    "        image_path = os.path.join(data_dir, image_file)\n",
    "        if image_path.endswith(\".jpg\"):\n",
    "            image = cv2.imread(image_path)\n",
    "            if data_dir.startswith(train_data_dir):\n",
    "                X_train.append(image)\n",
    "                y_train.append(label)\n",
    "            else:\n",
    "                X_test.append(image)\n",
    "                y_test.append(label)     \n"
   ]
  },
  {
   "cell_type": "code",
   "execution_count": 6,
   "id": "7502bd4e-4960-4922-965a-26042813cc18",
   "metadata": {},
   "outputs": [],
   "source": [
    "load_images_and_labels(os.path.join(train_data_dir, \"undiseased\"), label=0)\n",
    "load_images_and_labels(os.path.join(train_data_dir, \"diseased\"), label=1)\n"
   ]
  },
  {
   "cell_type": "code",
   "execution_count": 7,
   "id": "a2c22a51-ac0d-4508-8b00-b88df30f992a",
   "metadata": {},
   "outputs": [],
   "source": [
    "load_images_and_labels(os.path.join(test_data_dir, \"undiseased\"), label=0)\n",
    "load_images_and_labels(os.path.join(test_data_dir, \"diseased\"), label=1)\n"
   ]
  },
  {
   "cell_type": "code",
   "execution_count": 8,
   "id": "850625ee-8d81-4c7c-87bd-13b3072ddb74",
   "metadata": {},
   "outputs": [],
   "source": [
    "X_train = np.array(X_train)\n",
    "y_train = np.array(y_train)\n",
    "X_test = np.array(X_test)\n",
    "y_test = np.array(y_test)\n"
   ]
  },
  {
   "cell_type": "code",
   "execution_count": 9,
   "id": "0455cc6c-3772-4f8c-acd4-0080b3d55a16",
   "metadata": {},
   "outputs": [],
   "source": [
    "target_size = (250, 250)\n",
    "\n",
    "def resize_images(images, target_size):\n",
    "    resized_images = []\n",
    "    for image in images:\n",
    "        resized_image = cv2.resize(image, target_size)\n",
    "        resized_images.append(resized_image)\n",
    "    return resized_images\n",
    "\n",
    "X_train_resized = resize_images(X_train, target_size)\n",
    "\n",
    "X_test_resized = resize_images(X_test, target_size)\n",
    "\n",
    "X_train_resized = np.array(X_train_resized)\n",
    "X_test_resized = np.array(X_test_resized)\n"
   ]
  },
  {
   "cell_type": "code",
   "execution_count": 10,
   "id": "c167d225-d6c8-42e6-8e1b-09bc9fda85aa",
   "metadata": {},
   "outputs": [],
   "source": [
    "input_shape = (8,250, 250, 3)\n",
    "num_classes = 2  \n",
    "model = models.Sequential([\n",
    "    layers.experimental.preprocessing.Resizing(250, 250),\n",
    "    layers.experimental.preprocessing.Rescaling(1.0/255),\n",
    "    layers.experimental.preprocessing.RandomFlip(\"horizontal_and_vertical\"),\n",
    "    layers.experimental.preprocessing.RandomRotation(0.2),\n",
    "    layers.Conv2D(32, (3, 3), activation='relu', input_shape=input_shape),\n",
    "    layers.MaxPooling2D((2, 2)),\n",
    "    layers.Conv2D(64, (3, 3), activation='relu'),\n",
    "    layers.MaxPooling2D((2, 2)),\n",
    "    layers.Conv2D(64, (3, 3), activation='relu'),\n",
    "    layers.MaxPooling2D((2, 2)),\n",
    "    layers.Conv2D(64, (3, 3), activation='relu'),\n",
    "    layers.MaxPooling2D((2, 2)),\n",
    "    layers.Conv2D(64, (3, 3), activation='relu'),\n",
    "    layers.MaxPooling2D((2, 2)),\n",
    "    layers.Conv2D(64, (3, 3), activation='relu'),\n",
    "    layers.MaxPooling2D((2, 2)),\n",
    "    layers.Flatten(),\n",
    "    layers.Dense(16, activation='relu'),\n",
    "    layers.Dense(num_classes, activation='softmax')\n",
    "])\n",
    "model.build(input_shape=input_shape)\n"
   ]
  },
  {
   "cell_type": "code",
   "execution_count": 11,
   "id": "152cc88a-c0d2-4b94-bffc-b8f8f0fc53b0",
   "metadata": {},
   "outputs": [
    {
     "name": "stdout",
     "output_type": "stream",
     "text": [
      "Model: \"sequential\"\n",
      "_________________________________________________________________\n",
      " Layer (type)                Output Shape              Param #   \n",
      "=================================================================\n",
      " resizing (Resizing)         (8, 250, 250, 3)          0         \n",
      "                                                                 \n",
      " rescaling (Rescaling)       (8, 250, 250, 3)          0         \n",
      "                                                                 \n",
      " random_flip (RandomFlip)    (8, 250, 250, 3)          0         \n",
      "                                                                 \n",
      " random_rotation (RandomRot  (8, 250, 250, 3)          0         \n",
      " ation)                                                          \n",
      "                                                                 \n",
      " conv2d (Conv2D)             (8, 248, 248, 32)         896       \n",
      "                                                                 \n",
      " max_pooling2d (MaxPooling2  (8, 124, 124, 32)         0         \n",
      " D)                                                              \n",
      "                                                                 \n",
      " conv2d_1 (Conv2D)           (8, 122, 122, 64)         18496     \n",
      "                                                                 \n",
      " max_pooling2d_1 (MaxPoolin  (8, 61, 61, 64)           0         \n",
      " g2D)                                                            \n",
      "                                                                 \n",
      " conv2d_2 (Conv2D)           (8, 59, 59, 64)           36928     \n",
      "                                                                 \n",
      " max_pooling2d_2 (MaxPoolin  (8, 29, 29, 64)           0         \n",
      " g2D)                                                            \n",
      "                                                                 \n",
      " conv2d_3 (Conv2D)           (8, 27, 27, 64)           36928     \n",
      "                                                                 \n",
      " max_pooling2d_3 (MaxPoolin  (8, 13, 13, 64)           0         \n",
      " g2D)                                                            \n",
      "                                                                 \n",
      " conv2d_4 (Conv2D)           (8, 11, 11, 64)           36928     \n",
      "                                                                 \n",
      " max_pooling2d_4 (MaxPoolin  (8, 5, 5, 64)             0         \n",
      " g2D)                                                            \n",
      "                                                                 \n",
      " conv2d_5 (Conv2D)           (8, 3, 3, 64)             36928     \n",
      "                                                                 \n",
      " max_pooling2d_5 (MaxPoolin  (8, 1, 1, 64)             0         \n",
      " g2D)                                                            \n",
      "                                                                 \n",
      " flatten (Flatten)           (8, 64)                   0         \n",
      "                                                                 \n",
      " dense (Dense)               (8, 16)                   1040      \n",
      "                                                                 \n",
      " dense_1 (Dense)             (8, 2)                    34        \n",
      "                                                                 \n",
      "=================================================================\n",
      "Total params: 168178 (656.95 KB)\n",
      "Trainable params: 168178 (656.95 KB)\n",
      "Non-trainable params: 0 (0.00 Byte)\n",
      "_________________________________________________________________\n"
     ]
    }
   ],
   "source": [
    "model.summary()\n"
   ]
  },
  {
   "cell_type": "code",
   "execution_count": 12,
   "id": "e4a8fb57-0a87-4cb5-8ad7-030dd9f0a696",
   "metadata": {},
   "outputs": [],
   "source": [
    "model.compile(optimizer='adam', loss='sparse_categorical_crossentropy', metrics=['accuracy'])\n"
   ]
  },
  {
   "cell_type": "code",
   "execution_count": null,
   "id": "808794fc-21ed-45a6-b131-09c253072f2d",
   "metadata": {},
   "outputs": [
    {
     "name": "stdout",
     "output_type": "stream",
     "text": [
      "Epoch 1/10\n",
      "196/196 [==============================] - 33s 149ms/step - loss: 0.6997 - accuracy: 0.5077 - val_loss: 0.6939 - val_accuracy: 0.5000\n",
      "Epoch 2/10\n",
      "196/196 [==============================] - 29s 146ms/step - loss: 0.6895 - accuracy: 0.5510 - val_loss: 0.6950 - val_accuracy: 0.5000\n",
      "Epoch 3/10\n",
      " 83/196 [===========>..................] - ETA: 15s - loss: 0.6987 - accuracy: 0.4458"
     ]
    }
   ],
   "source": [
    "epochs = 10\n",
    "batch_size = 2\n",
    "validation_split=0.1\n",
    "validation_data = (X_test_resized, y_test)\n",
    "history = model.fit(X_train_resized, y_train, epochs=epochs, batch_size=batch_size, validation_data=validation_data)\n"
   ]
  },
  {
   "cell_type": "code",
   "execution_count": 330,
   "id": "b18e1171-cec9-47fa-b6a8-ea0a98ac20a9",
   "metadata": {},
   "outputs": [
    {
     "name": "stdout",
     "output_type": "stream",
     "text": [
      "4/4 [==============================] - 1s 295ms/step - loss: 18.9188 - accuracy: 0.5400\n",
      "Test loss: 18.918832778930664, Test accuracy: 0.5400000214576721\n"
     ]
    }
   ],
   "source": [
    "test_loss, test_accuracy = model.evaluate(X_test_resized, y_test)\n",
    "print(f'Test loss: {test_loss}, Test accuracy: {test_accuracy}')\n"
   ]
  },
  {
   "cell_type": "code",
   "execution_count": 327,
   "id": "5d04c519-8121-47ab-89ef-b2de0f25f16e",
   "metadata": {},
   "outputs": [
    {
     "name": "stdout",
     "output_type": "stream",
     "text": [
      "4/4 [==============================] - 1s 152ms/step\n"
     ]
    }
   ],
   "source": [
    "from sklearn.metrics import classification_report, confusion_matrix\n",
    "from sklearn.metrics import accuracy_score, precision_score, recall_score, f1_score\n",
    "y_pred = model.predict(X_test_resized)\n"
   ]
  },
  {
   "cell_type": "code",
   "execution_count": 312,
   "id": "4b8a005c-4f4d-4482-9916-6e90f48ac63a",
   "metadata": {},
   "outputs": [],
   "source": [
    "y_pred_classes = y_pred.argmax(axis=-1)\n"
   ]
  },
  {
   "cell_type": "code",
   "execution_count": 313,
   "id": "41482c78-3516-4bc5-9d87-1738978d41e0",
   "metadata": {},
   "outputs": [
    {
     "name": "stdout",
     "output_type": "stream",
     "text": [
      "Accuracy: 0.68\n",
      "Precision: 0.68\n",
      "Recall: 0.68\n",
      "F1 Score: 0.68\n",
      "Confusion Matrix:\n",
      "[[34 16]\n",
      " [16 34]]\n"
     ]
    }
   ],
   "source": [
    "accuracy = accuracy_score(y_test, y_pred_classes)\n",
    "precision = precision_score(y_test, y_pred_classes)\n",
    "recall = recall_score(y_test, y_pred_classes)\n",
    "f1 = f1_score(y_test, y_pred_classes)\n",
    "conf_matrix = confusion_matrix(y_test, y_pred_classes)\n",
    "print(\"Accuracy:\", accuracy)\n",
    "print(\"Precision:\", precision)\n",
    "print(\"Recall:\", recall)\n",
    "print(\"F1 Score:\", f1)\n",
    "print(\"Confusion Matrix:\")\n",
    "print(conf_matrix)\n"
   ]
  },
  {
   "cell_type": "code",
   "execution_count": 314,
   "id": "8f56c540-0df6-4dd7-9308-1416ae9c5c17",
   "metadata": {},
   "outputs": [],
   "source": [
    "acc=history.history['accuracy']\n",
    "val_acc=history.history['val_accuracy']\n",
    "\n",
    "loss=history.history['loss']\n",
    "val_loss=history.history['val_loss']"
   ]
  },
  {
   "cell_type": "code",
   "execution_count": 306,
   "id": "58ba966a-e258-410f-aaf0-1333c70438a5",
   "metadata": {},
   "outputs": [
    {
     "data": {
      "image/png": "[encoded data removed]",
      "text/plain": [
       "<Figure size 900x300 with 2 Axes>"
      ]
     },
     "metadata": {},
     "output_type": "display_data"
    }
   ],
   "source": [
    "plt.figure(figsize=(9,3))\n",
    "plt.subplot(1, 2, 1)\n",
    "plt.plot(range(epochs), acc, label='Training Accuracy')\n",
    "plt.plot(range(epochs), val_acc, label='Validation Accuracy')\n",
    "plt.legend(loc='lower right')\n",
    "plt.title('Training and Validation Accuracy')\n",
    "\n",
    "plt.subplot(1, 2, 2)\n",
    "plt.plot(range(epochs), loss, label='Training Loss')\n",
    "plt.plot(range(epochs), val_loss, label='Validation Loss')\n",
    "plt.legend(loc='upper right')\n",
    "plt.title('Training and Validation Loss')\n",
    "plt.show()"
   ]
  }
 ],
 "metadata": {
  "kernelspec": {
   "display_name": "Python 3 (ipykernel)",
   "language": "python",
   "name": "python3"
  },
  "language_info": {
   "codemirror_mode": {
    "name": "ipython",
    "version": 3
   },
   "file_extension": ".py",
   "mimetype": "text/x-python",
   "name": "python",
   "nbconvert_exporter": "python",
   "pygments_lexer": "ipython3",
   "version": "3.11.6"
  }
 },
 "nbformat": 4,
 "nbformat_minor": 5
}
